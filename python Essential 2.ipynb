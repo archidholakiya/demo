{
 "cells": [
  {
   "cell_type": "markdown",
   "id": "8d5a7471-d012-46af-89c4-8508959f915d",
   "metadata": {},
   "source": [
    "# Python operators"
   ]
  },
  {
   "cell_type": "markdown",
   "id": "26165e03-a2f8-4240-97d0-89b5ebb00a87",
   "metadata": {},
   "source": [
    "## Arithmetic Operators"
   ]
  },
  {
   "cell_type": "code",
   "execution_count": null,
   "id": "12c83271-595a-4e11-a77b-07e1ae2a79ad",
   "metadata": {},
   "outputs": [],
   "source": [
    "a=5\n",
    "b=2\n",
    "x='Data'\n",
    "y ='Science'"
   ]
  },
  {
   "cell_type": "code",
   "execution_count": null,
   "id": "27887f3a-866f-47ea-bd2c-77c32df16885",
   "metadata": {},
   "outputs": [],
   "source": [
    "#  Addition\n",
    "a + b"
   ]
  },
  {
   "cell_type": "code",
   "execution_count": null,
   "id": "be0cd400-1c5b-480d-b712-91d5b96d61bc",
   "metadata": {},
   "outputs": [],
   "source": [
    "x+y"
   ]
  },
  {
   "cell_type": "code",
   "execution_count": null,
   "id": "38ffd317-f98c-44c3-a194-625013bc8b97",
   "metadata": {},
   "outputs": [],
   "source": [
    "#Concatenate string using plus operato\n",
    "x +\" \"+ y"
   ]
  },
  {
   "cell_type": "code",
   "execution_count": null,
   "id": "fc722209-9d67-4a4b-9691-ff8f208e0793",
   "metadata": {},
   "outputs": [],
   "source": [
    "# Subtraction\n",
    "c = a-b\n",
    "print(c)"
   ]
  },
  {
   "cell_type": "code",
   "execution_count": null,
   "id": "405696b2-f586-4829-8d4d-a92f60708d1a",
   "metadata": {},
   "outputs": [],
   "source": [
    "a-b"
   ]
  },
  {
   "cell_type": "code",
   "execution_count": null,
   "id": "0a97a153-eec0-42a5-a4ca-a8d87fee4fba",
   "metadata": {},
   "outputs": [],
   "source": [
    "# Multiplication\n",
    "c = a * b\n",
    "print(c)"
   ]
  },
  {
   "cell_type": "code",
   "execution_count": null,
   "id": "3444a4d8-6278-4e01-a0df-217c10c822c9",
   "metadata": {},
   "outputs": [],
   "source": [
    "# Power\n",
    "c = a ** b\n",
    "print(c)"
   ]
  },
  {
   "cell_type": "code",
   "execution_count": null,
   "id": "869efb91-1d43-417f-9941-94780f936194",
   "metadata": {},
   "outputs": [],
   "source": [
    "# Division\n",
    "c = a / b\n",
    "print(c)"
   ]
  },
  {
   "cell_type": "code",
   "execution_count": null,
   "id": "3095b042-9d93-4c7e-81d4-529b00d3f752",
   "metadata": {},
   "outputs": [],
   "source": [
    "# Modulo of both number\n",
    "c = a % b\n",
    "print(c)"
   ]
  },
  {
   "cell_type": "code",
   "execution_count": null,
   "id": "0e892733-8919-4912-8ce9-6562c4bea898",
   "metadata": {},
   "outputs": [],
   "source": [
    "# Division(floor)\n",
    "c = a // b   # This will print 2, as 5 divided by 2 equals 2.5, and floor division rounds down to the nearest whole number\n",
    "print(c)"
   ]
  },
  {
   "cell_type": "code",
   "execution_count": null,
   "id": "95d69f8a-776c-4684-a75c-16801a8f2f8a",
   "metadata": {},
   "outputs": [],
   "source": [
    "# Task:-\n",
    "\n",
    "a = 10\n",
    "b = 20\n",
    "\n",
    "# addition        +\n",
    "#substraction     -\n",
    "#multiple         *\n",
    "# divide          /\n",
    "# floor divide    //\n",
    "#reminder         %\n",
    "# Power           **"
   ]
  },
  {
   "cell_type": "code",
   "execution_count": null,
   "id": "ad2e8a00-273d-4db8-8593-4ed1af28c05a",
   "metadata": {},
   "outputs": [],
   "source": [
    "a**b"
   ]
  },
  {
   "cell_type": "markdown",
   "id": "e3610f4f-24ff-41d4-9a88-3702c78f2e66",
   "metadata": {},
   "source": [
    "## Comparison Operators"
   ]
  },
  {
   "cell_type": "code",
   "execution_count": null,
   "id": "fe35a4aa-8737-4947-a030-42d1e705a90e",
   "metadata": {},
   "outputs": [],
   "source": [
    "x  = 30\n",
    "y  = 11"
   ]
  },
  {
   "cell_type": "code",
   "execution_count": null,
   "id": "9b4056fa-13b2-476c-8281-532cb1a7c9b3",
   "metadata": {},
   "outputs": [],
   "source": [
    "print(\"Is x greater than y >>> \",x>y)"
   ]
  },
  {
   "cell_type": "code",
   "execution_count": null,
   "id": "3d599a67-ff8c-4349-a1d5-b575998593a9",
   "metadata": {},
   "outputs": [],
   "source": [
    "print(\"Is X less than y :- \", x<y)"
   ]
  },
  {
   "cell_type": "code",
   "execution_count": null,
   "id": "ad905308-7a10-43c4-a4ce-be5007432b05",
   "metadata": {},
   "outputs": [],
   "source": [
    "# ==  Equal to\n",
    "# !=  Not Equal To\n",
    "# >=  Greater than or equal to\n",
    "# <=  Less than or equal to\n",
    "# >   greater than \n",
    "# <   less than"
   ]
  },
  {
   "cell_type": "code",
   "execution_count": null,
   "id": "6777cb68-0a15-4018-8437-c36d4b1184ab",
   "metadata": {},
   "outputs": [],
   "source": [
    "print('Is  x  less  than    y  :-  ',x<y)\n",
    "print('Is  x  equal  to    y  :-  ',x==y)\n",
    "print('Is  x  not  equal  to  y  :-  ',x!=y)\n",
    "print('Is  x  greater  than  or  equal  to  y  :-  ',x>=y)\n",
    "print('Is  x  less  than  or  equal  to  y  :-  ',x<=y)"
   ]
  },
  {
   "cell_type": "code",
   "execution_count": null,
   "id": "582c83c3-da22-47c7-b67b-790017c89d91",
   "metadata": {},
   "outputs": [],
   "source": []
  },
  {
   "cell_type": "code",
   "execution_count": null,
   "id": "d8521903-a85e-47ff-b9cb-6665cbf22592",
   "metadata": {},
   "outputs": [],
   "source": [
    "a = 'Data'\n",
    "b = 'Science'\n",
    "c = 'Data'"
   ]
  },
  {
   "cell_type": "code",
   "execution_count": null,
   "id": "81309445-6ca5-4524-b608-b623a07b5d96",
   "metadata": {},
   "outputs": [],
   "source": [
    "a == b"
   ]
  },
  {
   "cell_type": "code",
   "execution_count": null,
   "id": "4c56eb32-8df1-464d-b208-26395276b532",
   "metadata": {},
   "outputs": [],
   "source": [
    "a ==c"
   ]
  },
  {
   "cell_type": "code",
   "execution_count": null,
   "id": "4fdacc9d-21e0-49f1-8ff1-a7c8af1ec12c",
   "metadata": {},
   "outputs": [],
   "source": [
    "a != b # Comparison operators on string"
   ]
  },
  {
   "cell_type": "markdown",
   "id": "0a750f15-0f6d-4d32-b406-5511366589ac",
   "metadata": {},
   "source": [
    "## Logical Operators"
   ]
  },
  {
   "cell_type": "code",
   "execution_count": null,
   "id": "96cca95c-c6d9-402c-a68d-5c24c49bb6a5",
   "metadata": {},
   "outputs": [],
   "source": [
    "# And  >> it check all the condition which you want to perform\n",
    "# Or   >> It is use to check wheather one condition should correct which you want to perform"
   ]
  },
  {
   "cell_type": "code",
   "execution_count": null,
   "id": "31ea7c9b-dc4d-43ed-83ea-7695f3599440",
   "metadata": {},
   "outputs": [],
   "source": [
    "x = 15\n",
    "y = 20"
   ]
  },
  {
   "cell_type": "code",
   "execution_count": null,
   "id": "d64ee04f-7c04-44ef-ba38-13eec33e3994",
   "metadata": {},
   "outputs": [],
   "source": [
    "print(\"logical or operation :- \", x and y)"
   ]
  },
  {
   "cell_type": "code",
   "execution_count": null,
   "id": "5b0dc302-8cdf-4de3-a729-6d7cc9f890f2",
   "metadata": {},
   "outputs": [],
   "source": [
    "print('Logical  OR  operation  :-  ',x  or  y)  #  True  if  either  of  the  values  is  true"
   ]
  },
  {
   "cell_type": "markdown",
   "id": "ee86726b-ebde-48c7-9d91-c56ed12f12b5",
   "metadata": {},
   "source": [
    "# Input function"
   ]
  },
  {
   "cell_type": "code",
   "execution_count": null,
   "id": "c004687c-c6dc-41f5-9981-0d6f644f659d",
   "metadata": {},
   "outputs": [],
   "source": [
    "a = float(input(\"Enter Your Age\"))"
   ]
  },
  {
   "cell_type": "code",
   "execution_count": null,
   "id": "4d506373-79c4-4655-909a-f980627c0da2",
   "metadata": {},
   "outputs": [],
   "source": [
    "a"
   ]
  },
  {
   "cell_type": "code",
   "execution_count": null,
   "id": "47dfb962-2ba2-4ed8-a63f-57d68cdf131b",
   "metadata": {},
   "outputs": [],
   "source": [
    "a = float(input(\"Enter your Age\")) # taking input from user, by default it takes str dtype\n",
    "a"
   ]
  },
  {
   "cell_type": "code",
   "execution_count": null,
   "id": "e759aa92-1225-4172-a5b1-455cafbdc942",
   "metadata": {},
   "outputs": [],
   "source": [
    "int(a)"
   ]
  },
  {
   "cell_type": "code",
   "execution_count": null,
   "id": "4583c379-d56f-419a-91ab-fc4dc10c6a17",
   "metadata": {},
   "outputs": [],
   "source": [
    "a # input takes values as string by default"
   ]
  },
  {
   "cell_type": "code",
   "execution_count": null,
   "id": "c462ddc5-1d4e-4112-a0a3-b5b70f5b23f0",
   "metadata": {},
   "outputs": [],
   "source": [
    "type(a)"
   ]
  },
  {
   "cell_type": "raw",
   "id": "75aa1f3e-25e8-43e8-8ece-453a7c893c36",
   "metadata": {},
   "source": [
    "name\n",
    "Age\n",
    "Address\n",
    "Qualification"
   ]
  },
  {
   "cell_type": "code",
   "execution_count": null,
   "id": "265c75ff-b1e6-42fe-b7e8-a7c2945ad672",
   "metadata": {},
   "outputs": [],
   "source": [
    "name = input(\"Enter Your Name\")\n",
    "Age = float(input(\"Enter Your Age\"))\n",
    "Address = input(\"Enter Your Address\")\n",
    "print(name,Age,Address)"
   ]
  },
  {
   "cell_type": "markdown",
   "id": "255d4e2d-f1ac-4ca5-a55e-d9d188c2fb88",
   "metadata": {},
   "source": [
    "# If  conditional statement"
   ]
  },
  {
   "cell_type": "markdown",
   "id": "3e3056dd-8e3a-42a0-aa35-d819192372fe",
   "metadata": {},
   "source": [
    "* A Python if statement evaluates whether a condition is equal to true or false.\n",
    "* The statement will execute a block of code if a specified condition is equal to true. Otherwise, the block of code within the if statement is not executed"
   ]
  },
  {
   "cell_type": "markdown",
   "id": "93e65b85-9d54-455f-80b8-38153c0ee656",
   "metadata": {},
   "source": [
    "* Indentation refers to the spaces at the beginning of a\n",
    "code line. It is very important as Python uses indentation\n",
    "to indicate a block of code."
   ]
  },
  {
   "cell_type": "code",
   "execution_count": null,
   "id": "5418d8c1-f2f2-4807-ba23-69dec60de467",
   "metadata": {},
   "outputs": [],
   "source": [
    "a = 10\n",
    "if a>1:\n",
    "    print(\"Hello All\")"
   ]
  },
  {
   "cell_type": "code",
   "execution_count": null,
   "id": "686e345c-5187-4170-910f-ba739a03b955",
   "metadata": {},
   "outputs": [],
   "source": [
    "a=8\n",
    "if a>6:#greater than 6\n",
    "    print('We started to work on conditional statements')"
   ]
  },
  {
   "cell_type": "code",
   "execution_count": null,
   "id": "fac12626-c2e1-441b-9c78-d5c1741e3a95",
   "metadata": {},
   "outputs": [],
   "source": [
    "a=7\n",
    "if a==7: # this print statement will not execute because if condition is not True\n",
    "    print('Condition is true') \n",
    "print(\"Hello\")\n",
    "    "
   ]
  },
  {
   "cell_type": "code",
   "execution_count": null,
   "id": "a1e824f0-d2bb-4754-85df-fe325de18879",
   "metadata": {},
   "outputs": [],
   "source": [
    "# here we are checking if else condition if x == 5 then it will execute your print statement otherwise it will execute your else statement\n",
    "\n",
    "x=5\n",
    "if x>2: # If condition is false\n",
    "    print('The if condition is true')\n",
    "else:\n",
    "    print('Else condition got executed')\n",
    "print(\"Bye Bye\")\n"
   ]
  },
  {
   "cell_type": "code",
   "execution_count": null,
   "id": "107ce08e-5690-4e4e-bd50-348b424f8064",
   "metadata": {},
   "outputs": [],
   "source": [
    "a"
   ]
  },
  {
   "cell_type": "code",
   "execution_count": null,
   "id": "82679c77-3af9-4a84-a274-8f73214bf670",
   "metadata": {},
   "outputs": [],
   "source": []
  },
  {
   "cell_type": "code",
   "execution_count": null,
   "id": "7746b6da-b417-4229-a769-9ca170076241",
   "metadata": {},
   "outputs": [],
   "source": [
    "a = input(\"Enter to check Palindrome\").lower()\n",
    "if a == a[::-1]:\n",
    "    print(\"Palindrome\")\n",
    "else:\n",
    "    print(\"Not Palindrome\")"
   ]
  },
  {
   "cell_type": "code",
   "execution_count": null,
   "id": "0178e2b9-79c4-4c3e-a83d-381a41cd2791",
   "metadata": {},
   "outputs": [],
   "source": [
    "age = int(input(\"How old R U\"))\n",
    "if age>=18:\n",
    "    print(\"Adult\")\n",
    "else:\n",
    "    print(\"Minor\")"
   ]
  },
  {
   "cell_type": "code",
   "execution_count": null,
   "id": "52dc399b-a577-4af4-bff1-7aa87cd50d69",
   "metadata": {},
   "outputs": [],
   "source": [
    "x = -23\n",
    "if x>0:  # greater than\n",
    "    print('i am in if block')\n",
    "else:\n",
    "    print('i am in else block')"
   ]
  },
  {
   "cell_type": "code",
   "execution_count": null,
   "id": "2baa28eb-6bad-4e94-943b-94110a3a280c",
   "metadata": {},
   "outputs": [],
   "source": [
    "if(5>4):\n",
    "    print('5 is big')\n",
    "    print('i am in if block')\n",
    "print('i am out of if block')"
   ]
  },
  {
   "cell_type": "code",
   "execution_count": null,
   "id": "c2631677-0efd-4bd6-b7d9-9b86a9462d67",
   "metadata": {},
   "outputs": [],
   "source": [
    "# using or operater checking if condition\n",
    "a = 10\n",
    "if a == 12 or a == 10:   # any of them condition is true it will execute print statement\n",
    "    print(\"One condition is True\")\n",
    "else:\n",
    "    print(\"Both Condition are False\")"
   ]
  },
  {
   "cell_type": "code",
   "execution_count": null,
   "id": "77f54db1-c5ea-4659-a299-05c779af84b0",
   "metadata": {},
   "outputs": [],
   "source": [
    "# using and operater checking if condition\n",
    "a = 10\n",
    "b = 12\n",
    "if a == 10 and b == 12: # when both condition are true then it will execute print statement\n",
    "    print(\"Both Condition are Ture\")"
   ]
  },
  {
   "cell_type": "code",
   "execution_count": null,
   "id": "18950e71-b7ce-4405-ba21-3dd79d772297",
   "metadata": {},
   "outputs": [],
   "source": [
    "# if ... else\n",
    "x = 0\n",
    "if x==0:\n",
    "    print(\"X is positive\")\n",
    "    print(\"i am in IF block\")\n",
    "else:\n",
    "    print(\"X is Negative\")\n",
    "    print('i am in else block')\n",
    "\n",
    "print(\"i am  out of IF block\")"
   ]
  },
  {
   "cell_type": "markdown",
   "id": "2802dc3b-ef0f-4730-9b7a-055afc8b7ee9",
   "metadata": {},
   "source": [
    "* write a code where you will take a input from user and check wheather the input is positive no.or negative number"
   ]
  },
  {
   "cell_type": "code",
   "execution_count": null,
   "id": "ce7346b9-f6e5-400b-aede-96e5c6758c82",
   "metadata": {},
   "outputs": [],
   "source": [
    "x = int(input(\"Enter Your No.\"))\n",
    "if x>0:\n",
    "    print(\"User Input is Postive\")\n",
    "else:\n",
    "    print(\"User Input is Negative\")"
   ]
  },
  {
   "cell_type": "code",
   "execution_count": null,
   "id": "25865e29-1e7b-4e94-bcb2-dfd28517b292",
   "metadata": {},
   "outputs": [],
   "source": [
    "x = 5\n",
    "if(x>10):\n",
    "    print('i am in if block')\n",
    "elif(x==5):\n",
    "# elif will help in checking more than 1 if condition\n",
    "    print('i am in elif block')\n",
    "elif(x==0):\n",
    "    print('Zero number')\n",
    "else:\n",
    "    print('i am in else block')"
   ]
  },
  {
   "cell_type": "code",
   "execution_count": null,
   "id": "572fbe4e-9e9e-44fa-b9a6-da84beca63d8",
   "metadata": {},
   "outputs": [],
   "source": [
    "a = float(input(\"Enter Your Number\"))\n",
    "b = 0\n",
    "if a==b:\n",
    "    print(\"Zero\")\n",
    "elif a>b:\n",
    "    print(\"Positive\")\n",
    "else:\n",
    "    print(\"Negative\")"
   ]
  },
  {
   "cell_type": "code",
   "execution_count": null,
   "id": "5679cbd6-e4fd-400f-9811-95b819577831",
   "metadata": {},
   "outputs": [],
   "source": [
    "## Nesting\n",
    "# when we give if condition inside if condition that's called nested if condition\n",
    "x=5\n",
    "if(x>=4):\n",
    "    print('i am in 1st if')\n",
    "    if(x<10):\n",
    "        print('i am in 2nd if')\n",
    "        if(x==5):\n",
    "            print('i am in 3rd if ')\n",
    "            "
   ]
  },
  {
   "cell_type": "code",
   "execution_count": null,
   "id": "063297b5-1d54-45df-9b60-3fc94762f657",
   "metadata": {},
   "outputs": [],
   "source": [
    "name = input(\"Enter Your Name\")\n",
    "if name == \"John\":\n",
    "    age = float(input(\"Enter Your Age\"))\n",
    "    if age == 20:\n",
    "        address = input(\"Enter Your Address\")\n",
    "        if address == \"India\":\n",
    "            qual = input(\"Enter Your Qualification\")\n",
    "            if qual ==\"BCA\":\n",
    "                print(\"Thanks for sharing your details...\")"
   ]
  },
  {
   "cell_type": "code",
   "execution_count": null,
   "id": "00792cfd-1f7d-49b2-a071-fc05d6eafa4d",
   "metadata": {},
   "outputs": [],
   "source": [
    "name = input(\"Enter Your Name\")\n",
    "if name==\"John\":\n",
    "    #print(name)\n",
    "    age = float(input(\"Enter Your age\"))\n",
    "    if age == 20:\n",
    "        #print(age)\n",
    "        address = input(\"Enter Your Address\")\n",
    "        if address == \"India\":\n",
    "           # print(address)\n",
    "            qual = input(\"Enter Your Qualification\")\n",
    "            if qual == \"BCA\":\n",
    "                print(\"Thanks for sharing your details...\")\n",
    "            else:\n",
    "                print(\"Please provide correct Qualification\")\n",
    "        else:\n",
    "            print(\"Please provide correct Address\")\n",
    "    else:\n",
    "        print(\"Please provide correct age\")\n",
    "else:\n",
    "    print(\"Please provide correct name\")"
   ]
  },
  {
   "cell_type": "code",
   "execution_count": null,
   "id": "b7f68e51-7136-4c23-bc39-a3ceb46baa92",
   "metadata": {},
   "outputs": [],
   "source": [
    "str1=input(\"Enter a string\")\n",
    "if str1==str1.upper():\n",
    "  print(\"Capital LETTERS\")\n",
    "else:\n",
    "  print(\"not Capital letters\")"
   ]
  },
  {
   "cell_type": "code",
   "execution_count": null,
   "id": "89209d9a-ab63-4b67-bbda-e6ef372b6477",
   "metadata": {},
   "outputs": [],
   "source": [
    "str1 = input(\"Enter To Check Palindrome or Not\").lower()\n",
    "if str1 == str1[::-1]:\n",
    "    print(\"Palindrome\")\n",
    "else:\n",
    "\n",
    "    print(\"Not Palindrome\")"
   ]
  },
  {
   "cell_type": "code",
   "execution_count": null,
   "id": "d92b3a17-9565-461d-8d9f-ec15da4b3cda",
   "metadata": {},
   "outputs": [],
   "source": [
    "per = input(\"Do Have permission :- Yes or No\")\n",
    "if per == \"Yes\":\n",
    "    #print(\"Yes\")\n",
    "    money = int(input(\"Do You have money >10k :-\"))\n",
    "    if money >= 10000:\n",
    "        #print(\"Yes\")\n",
    "        fri = input(\"Do you have Friens :- Yes or No\")\n",
    "        if fri == \"Yes\":\n",
    "            #print(\"Yes\")\n",
    "            bike = input(\"Do have Bike :- Yes or No\")\n",
    "            if bike == \"Yes\":\n",
    "                print(\"Go and Enjoy....\")\n",
    "            else:\n",
    "                print(\"Cancel Your Plan\")\n",
    "        else:\n",
    "            print(\"Cancel Your Plan\")\n",
    "    else:\n",
    "        print(\"Cancel Your Plan\")\n",
    "else:\n",
    "    print(\"Cancel Your Plan\")"
   ]
  },
  {
   "cell_type": "code",
   "execution_count": null,
   "id": "9da332e3-5e18-48c8-bc7a-7ed093dcb54c",
   "metadata": {},
   "outputs": [],
   "source": [
    "x = int(input())#1\n",
    "if x% 2 == 0:\n",
    "    print(\"Even\")\n",
    "else:\n",
    "    print(\"odd\")"
   ]
  },
  {
   "cell_type": "code",
   "execution_count": null,
   "id": "d5d220a5-a8ec-4b74-9ce5-2e1c0fac4343",
   "metadata": {},
   "outputs": [],
   "source": []
  },
  {
   "cell_type": "code",
   "execution_count": null,
   "id": "dafffff0-e2d6-4201-9388-5c5765718734",
   "metadata": {},
   "outputs": [],
   "source": [
    "a = int(input(\"Enter Your Number\"))\n",
    "if a%2==0:\n",
    "    print(\"Even\")\n",
    "else:\n",
    "    print(\"Odd\")"
   ]
  },
  {
   "cell_type": "code",
   "execution_count": null,
   "id": "18bb25a9-8c62-4f9c-ad74-a6857faca548",
   "metadata": {},
   "outputs": [],
   "source": []
  },
  {
   "cell_type": "markdown",
   "id": "3e8cfbc4-41cb-4eff-859e-45c1c36bfbfb",
   "metadata": {},
   "source": [
    "# Datetime package"
   ]
  },
  {
   "cell_type": "code",
   "execution_count": null,
   "id": "583b27b3-9ef2-4a1c-8299-e1814123d6de",
   "metadata": {},
   "outputs": [],
   "source": [
    "from datetime import date"
   ]
  },
  {
   "cell_type": "code",
   "execution_count": null,
   "id": "f3027e5d-2352-4ea7-906f-7e74ff1843d7",
   "metadata": {},
   "outputs": [],
   "source": [
    "my_date = date(2025,6,29) ## Simple date creation"
   ]
  },
  {
   "cell_type": "code",
   "execution_count": null,
   "id": "8b90fbed-c3b0-4106-aab4-054e3d319ba4",
   "metadata": {},
   "outputs": [],
   "source": [
    "my_date.isoweekday()"
   ]
  },
  {
   "cell_type": "code",
   "execution_count": null,
   "id": "ed011dbd-9deb-42cc-b9b1-c43c4de62a84",
   "metadata": {},
   "outputs": [],
   "source": [
    "# Getting today's date\n",
    "today1 = date.today()\n",
    "\n",
    "print(\"Today's date is\", today1)"
   ]
  },
  {
   "cell_type": "code",
   "execution_count": null,
   "id": "634affa4-d59b-4609-9d94-5bd0b1ef6377",
   "metadata": {},
   "outputs": [],
   "source": [
    "today1.isoweekday()"
   ]
  },
  {
   "cell_type": "code",
   "execution_count": null,
   "id": "ea599bf8-bc0b-41f8-aa66-f4b0ae3aae22",
   "metadata": {},
   "outputs": [],
   "source": [
    "# Get Today’s Year, Month, and Date\n",
    "\n",
    "print(\"Current year:\", today1.year)\n",
    "print(\"Current month:\", today1.month)\n",
    "print(\"Current day:\", today1.day)"
   ]
  },
  {
   "cell_type": "code",
   "execution_count": null,
   "id": "5a2d91d3-cdc6-4713-9e95-f8f86a814e3c",
   "metadata": {},
   "outputs": [],
   "source": [
    "# Get date from datetime sub module\n",
    "from datetime import datetime  as dt"
   ]
  },
  {
   "cell_type": "code",
   "execution_count": null,
   "id": "f3b9cdf7-4f03-43f2-a955-96f28fdfe9a5",
   "metadata": {},
   "outputs": [],
   "source": [
    "date1 = dt.now()"
   ]
  },
  {
   "cell_type": "code",
   "execution_count": null,
   "id": "a1c03e6a-39c4-4197-bc4c-1b434dd568e0",
   "metadata": {},
   "outputs": [],
   "source": [
    "date1"
   ]
  },
  {
   "cell_type": "code",
   "execution_count": null,
   "id": "64bea6cf-5185-458a-b963-38fe491c8b36",
   "metadata": {},
   "outputs": [],
   "source": [
    "dt.date(date1)"
   ]
  },
  {
   "cell_type": "code",
   "execution_count": null,
   "id": "d2b29d2b-1282-4dca-9919-34a6d76b83aa",
   "metadata": {},
   "outputs": [],
   "source": [
    "date1.day"
   ]
  },
  {
   "cell_type": "code",
   "execution_count": null,
   "id": "7548de3e-a482-4b4a-b312-d313d0554589",
   "metadata": {},
   "outputs": [],
   "source": [
    "date1.hour"
   ]
  },
  {
   "cell_type": "code",
   "execution_count": null,
   "id": "cf5ca15d-27e8-4d12-b20c-e88a2b17f694",
   "metadata": {},
   "outputs": [],
   "source": [
    "date1.isoweekday()"
   ]
  },
  {
   "cell_type": "code",
   "execution_count": null,
   "id": "58caaeb6-2bb1-4a73-ae19-c30073f3187d",
   "metadata": {},
   "outputs": [],
   "source": [
    "date1.month"
   ]
  },
  {
   "cell_type": "code",
   "execution_count": null,
   "id": "ac44d1d9-30c6-4685-920a-2075383dc514",
   "metadata": {},
   "outputs": [],
   "source": [
    "date1.year"
   ]
  },
  {
   "cell_type": "code",
   "execution_count": null,
   "id": "eb0162ac-d343-45a1-9798-4ea5db8ffc0f",
   "metadata": {},
   "outputs": [],
   "source": [
    "date1.minute"
   ]
  },
  {
   "cell_type": "code",
   "execution_count": null,
   "id": "e1317689-8c2c-4d00-b518-4404f1898901",
   "metadata": {},
   "outputs": [],
   "source": [
    "date1.second"
   ]
  },
  {
   "cell_type": "code",
   "execution_count": null,
   "id": "9a454933-1873-4a0e-b78b-a4b69615fc2f",
   "metadata": {},
   "outputs": [],
   "source": [
    "date1.microsecond"
   ]
  },
  {
   "cell_type": "code",
   "execution_count": null,
   "id": "792cb9c6-1dbe-4ab4-9aee-8a26332f41da",
   "metadata": {},
   "outputs": [],
   "source": [
    "import calendar"
   ]
  },
  {
   "cell_type": "code",
   "execution_count": null,
   "id": "09df97b8-bdca-42b9-ab00-b3e0c47a226a",
   "metadata": {},
   "outputs": [],
   "source": [
    "print(calendar.month(1978,8))"
   ]
  },
  {
   "cell_type": "code",
   "execution_count": null,
   "id": "17e66be1-12d0-4dab-ad7d-17754d71d28a",
   "metadata": {},
   "outputs": [],
   "source": []
  },
  {
   "cell_type": "code",
   "execution_count": null,
   "id": "3ee89abe-3b5f-44f9-9a71-43d0a6037f54",
   "metadata": {},
   "outputs": [],
   "source": []
  }
 ],
 "metadata": {
  "kernelspec": {
   "display_name": "Python 3 (ipykernel)",
   "language": "python",
   "name": "python3"
  },
  "language_info": {
   "codemirror_mode": {
    "name": "ipython",
    "version": 3
   },
   "file_extension": ".py",
   "mimetype": "text/x-python",
   "name": "python",
   "nbconvert_exporter": "python",
   "pygments_lexer": "ipython3",
   "version": "3.12.7"
  }
 },
 "nbformat": 4,
 "nbformat_minor": 5
}
